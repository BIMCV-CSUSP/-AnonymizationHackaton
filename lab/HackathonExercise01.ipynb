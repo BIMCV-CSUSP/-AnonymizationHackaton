{
  "nbformat": 4,
  "nbformat_minor": 0,
  "metadata": {
    "colab": {
      "name": "HackathonExercise01.ipynb",
      "provenance": [],
      "authorship_tag": "ABX9TyMqyG50vL1+Q/kP/Zxvr/y+",
      "include_colab_link": true
    },
    "kernelspec": {
      "name": "python3",
      "display_name": "Python 3"
    },
    "language_info": {
      "name": "python"
    }
  },
  "cells": [
    {
      "cell_type": "markdown",
      "metadata": {
        "id": "view-in-github",
        "colab_type": "text"
      },
      "source": [
        "<a href=\"https://colab.research.google.com/github/BIMCV-CSUSP/AnonymizationHackaton/blob/main/lab/HackathonExercise01.ipynb\" target=\"_parent\"><img src=\"https://colab.research.google.com/assets/colab-badge.svg\" alt=\"Open In Colab\"/></a>"
      ]
    },
    {
      "cell_type": "markdown",
      "source": [
        "![logoDH.png](data:image/png;base64,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)\n",
        "\n",
        "# **MEDICAL DATA ANONYMIZATION HACKATHON**\n",
        "\n",
        "## Exercise 1: Re-identification of DICOM tags"
      ],
      "metadata": {
        "id": "z3VPEeLAG1FN"
      }
    },
    {
      "cell_type": "markdown",
      "source": [
        "Schema:\n",
        "\n",
        "1. Target: Find Personal Health Information\n",
        "2. Download the input files\n",
        "3. Results: csv file \n",
        "4. Pydicom library\n",
        "5. Read a dicom file\n",
        "6. See one tag\n",
        "\n",
        "#### The challenge of this exercise is to find the most amount of Personal Health Information (PHI) in a dataset of DICOM files.\n",
        "\n",
        "### Input Dataset\n",
        "The dataset has 1000 sessions of Conventional Radiography images of COVID-19 patients from the Valencia Region and has been anonymised according to the Smart-Upload of BIMCV. \n",
        "\n",
        "In a group of files, synthetic personal data has been added in the tags, so you have to find them. These fake data are based on the possible information from Spanish population.\n",
        "\n",
        "Get the files from the link: www....\n",
        "\n",
        "\n",
        "\n",
        "### Delivering the results\n",
        "The personal information found must be presented in a csv file. The first column must be the name of the dicom file, the second column has to be the tag number without the comma in the middle. For example, the tag 0008,0060 should be written 00080060. And the last column is where you put the personal health information found.\n",
        "\n",
        "Send the results by the form: https://forms.gle/8jwgA7VTVywfMwrB6\n",
        "\n",
        "### Pydicom library use\n",
        "One suggestion to search the PHI is the use of the python library *pydicom*. Following, I am going to show some code to do that."
      ],
      "metadata": {
        "id": "x9wiUkawHALi"
      }
    },
    {
      "cell_type": "code",
      "source": [
        "#make sure pydicom is installed\n",
        "import sys\n",
        "!{sys.executable} -m pip install pydicom"
      ],
      "metadata": {
        "colab": {
          "base_uri": "https://localhost:8080/"
        },
        "id": "MWEOZsXmG9wr",
        "outputId": "126a88eb-cf70-4ab1-f7b7-c52e115190c4"
      },
      "execution_count": null,
      "outputs": [
        {
          "output_type": "stream",
          "name": "stdout",
          "text": [
            "Collecting pydicom\n",
            "  Downloading pydicom-2.3.0-py3-none-any.whl (2.0 MB)\n",
            "\u001b[K     |████████████████████████████████| 2.0 MB 4.8 MB/s \n",
            "\u001b[?25hInstalling collected packages: pydicom\n",
            "Successfully installed pydicom-2.3.0\n"
          ]
        }
      ]
    },
    {
      "cell_type": "code",
      "source": [
        "#import the function to read dicom files\n",
        "from pydicom import dcmread"
      ],
      "metadata": {
        "id": "9z9u5CSLHbSy"
      },
      "execution_count": null,
      "outputs": []
    },
    {
      "cell_type": "code",
      "source": [
        "#download a dicom file (example)\n",
        "!wget --no-check-certificate \"https://drive.google.com/uc?export=download&id=1doluymtluO44Qo0ailJcpSaVG04YC7M5\" -O IMG00000.DCM"
      ],
      "metadata": {
        "colab": {
          "base_uri": "https://localhost:8080/"
        },
        "id": "Ov0goCF9Hh8p",
        "outputId": "cfa39664-e272-4f2a-d3bd-6c221c660223"
      },
      "execution_count": null,
      "outputs": [
        {
          "output_type": "stream",
          "name": "stdout",
          "text": [
            "--2022-04-21 07:55:53--  https://drive.google.com/uc?export=download&id=1doluymtluO44Qo0ailJcpSaVG04YC7M5\n",
            "Resolving drive.google.com (drive.google.com)... 142.250.152.101, 142.250.152.139, 142.250.152.102, ...\n",
            "Connecting to drive.google.com (drive.google.com)|142.250.152.101|:443... connected.\n",
            "HTTP request sent, awaiting response... 303 See Other\n",
            "Location: https://doc-10-1g-docs.googleusercontent.com/docs/securesc/ha0ro937gcuc7l7deffksulhg5h7mbp1/hp95i2jg9kimksllh80ngkjn21db9rhl/1650527700000/05223399385570672814/*/1doluymtluO44Qo0ailJcpSaVG04YC7M5?e=download [following]\n",
            "Warning: wildcards not supported in HTTP.\n",
            "--2022-04-21 07:55:56--  https://doc-10-1g-docs.googleusercontent.com/docs/securesc/ha0ro937gcuc7l7deffksulhg5h7mbp1/hp95i2jg9kimksllh80ngkjn21db9rhl/1650527700000/05223399385570672814/*/1doluymtluO44Qo0ailJcpSaVG04YC7M5?e=download\n",
            "Resolving doc-10-1g-docs.googleusercontent.com (doc-10-1g-docs.googleusercontent.com)... 142.250.125.132, 2607:f8b0:4001:c2f::84\n",
            "Connecting to doc-10-1g-docs.googleusercontent.com (doc-10-1g-docs.googleusercontent.com)|142.250.125.132|:443... connected.\n",
            "HTTP request sent, awaiting response... 200 OK\n",
            "Length: 16326730 (16M) [application/dicom]\n",
            "Saving to: ‘IMG00000.DCM’\n",
            "\n",
            "IMG00000.DCM        100%[===================>]  15.57M  71.9MB/s    in 0.2s    \n",
            "\n",
            "2022-04-21 07:55:57 (71.9 MB/s) - ‘IMG00000.DCM’ saved [16326730/16326730]\n",
            "\n"
          ]
        }
      ]
    },
    {
      "cell_type": "code",
      "source": [
        "#read the dicom\n",
        "ds=dcmread(\"IMG00000.DCM\")"
      ],
      "metadata": {
        "id": "LrmZOQy9HtTs"
      },
      "execution_count": null,
      "outputs": []
    },
    {
      "cell_type": "code",
      "source": [
        "#See the Modality\n",
        "#The number tag is 0008,0060\n",
        "print(ds[0x00080060].value)"
      ],
      "metadata": {
        "colab": {
          "base_uri": "https://localhost:8080/"
        },
        "id": "pc4Em0arHzW1",
        "outputId": "2f38c19e-88da-43e7-e895-574fd7b34d8b"
      },
      "execution_count": null,
      "outputs": [
        {
          "output_type": "stream",
          "name": "stdout",
          "text": [
            "CR\n"
          ]
        }
      ]
    },
    {
      "cell_type": "markdown",
      "source": [
        "You can find documentation at: https://pydicom.github.io/pydicom/stable/old/pydicom_user_guide.html"
      ],
      "metadata": {
        "id": "xzwdnsFiIApt"
      }
    }
  ]
}