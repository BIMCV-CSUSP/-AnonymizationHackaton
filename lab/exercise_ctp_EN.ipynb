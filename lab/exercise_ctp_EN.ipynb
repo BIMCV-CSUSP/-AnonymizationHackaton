{
  "nbformat": 4,
  "nbformat_minor": 0,
  "metadata": {
    "colab": {
      "name": "exercise03_EN.ipynb",
      "provenance": []
    },
    "kernelspec": {
      "name": "python3",
      "display_name": "Python 3"
    },
    "language_info": {
      "name": "python"
    }
  },
  "cells": [
    {
      "cell_type": "markdown",
      "source": [
        "# Exercise 2: De-identification of Dicom tags with CTP"
      ],
      "metadata": {
        "id": "DH_Y-zOPodfK"
      }
    },
    {
      "cell_type": "markdown",
      "source": [
       
        "### The purpose of this exercise is to learn how to install and use basically the open-source software CTP from RNSA to de-identify the Personal Health Information (PHI) of DICOM files in a local device."
      ],
      "metadata": {
        "id": "i2KPqvgVohof"
      }
    },
    {
      "cell_type": "markdown",
      "source": [
        "## Documentation\n",
        "\n",
        "Software CTP manual webpage: \n",
        "http://mircwiki.rsna.org/index.php?title=CTP-The_RSNA_Clinical_Trial_Processor\n",
        "\n",
        "\n",
        "## Input data of the exercise\n",
        "\n",
        "Two DICOM files from a conventional radiography session whose tags han been modified.\n",
        "\n",
        "To get these files, go to the link: [ficheros DICOM](https://drive.google.com/drive/folders/11b_zpT8lg1QGqe3kK2OLqLqUKtBc81w-?usp=sharing)\n",
        "\n",
        "\n",
        "## Before CTP instalation\n",
        "\n",
        "1. Java 1.7 (or better) JRE is required, Java 1.8 JRE recommended.\n",
        "2. For Windows, java must be of 32 bits. \n",
        "3. To download software CTP, go to webpage: http://mirc.rsna.org/query\n",
        "4. Go to the left menu and click on ‘Download Software’.\n",
        "5. Download the file CTP-installer.jar\n",
        "\n"
      ],
      "metadata": {
        "id": "jhwqhmo50Woe"
      }
    },
    {
      "cell_type": "markdown",
      "source": [
        "### Instalation of CTP\n",
        "\n",
        "Execute the file on terminal:\n",
        "```\n",
        "java -jar CTP-installer.jar\n",
        "```\n",
        "Choose the folder to put the program, choose the port number for the CTP server that will give a offline monitoring webpage.\n",
        "\n",
        "Once the instalation process is finished and the java window is closed, the **CTP** folder is created and a new java window will be opened to start the configuration of the server. Meanwhile, a support webpage will be opened to help in the configuration:\n",
        "\n",
        "http://mircwiki.rsna.org/index.php?title=The_CTP_Launcher_Configuration_Editor\n",
        "\n",
        "\n"
      ],
      "metadata": {
        "id": "GGWhELayt5kb"
      }
    },
    {
      "cell_type": "markdown",
      "source": [
        "### Configuration of CTP\n",
        "\n",
        "Leave the default configuration of the 'server', all the exercise will be offline.\n",
        "\n",
        "It is necessary to create a 'pipeline'. To do that, go to 'Pipeline' and click the option 'New Pipeline' or using the several templates.For this exercise, choose the template'CTP Classroom', click in its name on the lateral left menu and change the variable 'name' on the right.\n",
        "\n",
        "**name:**``` CTP_Exercise_Hackathon```\n",
        "\n",
        "A CTP pipeline structure has three basic components:\n",
        "\n",
        "*   Import the files\n",
        "*   One or more process (like Anonymization)\n",
        "*   Export the files\n",
        "\n",
        "Because this exercise is offline, we need to change te Import process in this template. Choose 'DicomImportService' on the lateral left panel. Go to the top menu and click the option 'Edit' and choose 'Remove'.\n",
        "\n",
        "Following, let's add the new Import, go to'ImportService' and choose the option'DirectoryImportService'. This process has to be on first place, so drag it with the mouse at the top of the pipeline list of the left panel.\n",
        "\n",
        "Check the default values and be sure every process has port number and they are not similar.\n",
        "\n",
        "**A warning for Linux:** the port numbers of every pipeline process has to be more than 1024.\n",
        "\n",
        "When the pipeline is finished, save it clicking on 'File' and choose 'Save'.\n",
        "\n",
        "Go to the tap 'General' and push the button 'Start' to active the CTP server.\n",
        "\n",
        "If you close the java window, you can come back if you go to de 'CTP' folder and execute in a terminal:\n",
        "\n",
        "```\n",
        "java -jar Launcher.jar\n",
        "```\n",
        "\n",
        "\n",
        "\n"
      ],
      "metadata": {
        "id": "pXFzXiUD1xfO"
      }
    },
    {
      "cell_type": "markdown",
      "source": [
        "## Monitoring webpage access\n",
        "On 'General' tap, push the button 'CTP Home Page' and a offline webpage will be opened to CTP monitoring. As this is the first time, log in username 'admin' and password 'password'.\n",
        "\n",
        "The administrator access let you more options on the left panel menu. You can see the 'System Summary' on the right panel, look the pipeline created is on the list. The summary table notifies the number of images that are in 'Import' and 'Export' stage, and also the images with some process problem that are in 'Quarantine' stage.\n"
      ],
      "metadata": {
        "id": "7FiZBoav8qbt"
      }
    },
    {
      "cell_type": "markdown",
      "source": [
        "## Modify DICOM Anonymizer Script\n",
        "\n",
        "It is recommended to copy the file 'DicomAnonymizer.script' inside the folder 'scripts' in 'CTP' directory.\n",
        "\n",
        "### Anonumizer Script access by monitoring webpage\n",
        "As administrator, go to the left panel and click on 'DicomAnonymiser' of the pipeline. Following, click on 'Edit the Anonymizer Script' on the right panel.\n",
        "\n",
        "A table will show up with all the DICOM tag that will be importan in an anonymization process. At 'Select' column, you can select the tags.\n",
        "\n",
        "At top, there is the menu to configure the Anonymizer script. The 'Help' option goes to useful help webpages.\n",
        "\n",
        "This webpage explains the functions of the script:\n",
        "http://mircwiki.rsna.org/index.php?title=The_CTP_DICOM_Anonymizer\n",
        "\n",
        "This webpage explains the configuration menu:\n",
        "http://mircwiki.rsna.org/index.php?title=The_CTP_DICOM_Anonymizer_Configurator\n",
        "\n",
        "### Choosing confidentiality profile\n",
        "\n",
        "Go to 'Profiles' of the configuration menu, put the mouse on 'DICOM' option and an option panel will be opened where you can choose the possible confidentiality profiles. Choose one and save the script at 'File' on the top menu or the disquette icon right top."
      ],
      "metadata": {
        "id": "zmLxt8qNK6nD"
      }
    },
    {
      "cell_type": "markdown",
      "source": [
        "## Placing the input files\n",
        "Copy the input files on the folder indicated on the variable 'import' of the pipeline process 'Directory Import Service'.\n",
        "If you did't make any change in the CTP configuration, the path within the 'CTP' folder is:\n",
        "```\n",
        "roots/DirectoryImportService/import\n",
        "```\n",
        "When the CTP server is working, those files will be deleted in this folder and you can check them in the path indicated on the variable 'root' of the first 'FileStorageSystem' with different filenames.\n",
        "\n"
      ],
      "metadata": {
        "id": "HSV4ejNcmPFu"
      }
    },
    {
      "cell_type": "markdown",
      "source": [
        "## Monitoring the pipeline\n",
        "Go to the 'Home CTP Page', and log in as administrator.\n",
        "\n",
        "Click on the pipeline on the left panel menu and see the summary of the processes.\n",
        "\n",
        "Click on 'FileStorageService-Anonymized' and click on 'View Stored Studies for __default' on the right panel. A table with the sessions will show up of the anonymized DICOM images.\n",
        "\n",
        "Click on 'List' and a list of all the DICOM files will show up. The 'List' option of every file is the access of the DICOM tag anonymized values."
      ],
      "metadata": {
        "id": "RcLq_Lo8Pxv6"
      }
    }
  ]
}
